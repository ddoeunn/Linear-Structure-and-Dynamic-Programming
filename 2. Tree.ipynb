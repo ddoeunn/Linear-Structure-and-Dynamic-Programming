{
 "cells": [
  {
   "cell_type": "markdown",
   "metadata": {
    "colab_type": "text",
    "id": "eJPxtoYyqADO"
   },
   "source": [
    "---\n",
    "# **Tree**  \n",
    "* Abstract Data Type  \n",
    "* Data stored as a tree structure  \n",
    "* Operation  \n",
    "    + Insert  \n",
    "    + Delete  \n",
    "    + Search  \n",
    "    + Traverse\n",
    "* Why do we use trees?  \n",
    "    + the structure of trees is a good analogy to the various real world structures\n",
    "    + a clear approach of Divide and Conquer  \n",
    "    "
   ]
  },
  {
   "cell_type": "markdown",
   "metadata": {
    "colab_type": "text",
    "id": "UIFlubCsqADU"
   },
   "source": [
    "## **Terminologies of tree structure**  \n",
    "* node: components of a tree\n",
    "* root: node without parents; starting node of tree \n",
    "* edge: lines connecting nodes to nodes; connects parent and child nodes  \n",
    "* ancestors: all nodes along the main line in the root node path  \n",
    "* parent: the node which has a branch from it to any other node\n",
    "* child: the node which is a descendant of some node  \n",
    "* subtree: a tree of one node and its descendants; Each node has as many subtrees as its child nodes\n",
    "* siblings: child nodes with the same parent node\n",
    "* terminal node: leaves; node with zero degree, missing child node\n",
    "* internal node: having at least one child\n",
    "* level: number on each floor of the tree  \n",
    "* forest: set of subtrees\n",
    "* depth: length of edge from root to node\n",
    "* height: length of edge from node to terminal node\n",
    "* height of tree: maximum level of tree\n",
    "* degree: number of child nodes connected to a node\n",
    "* degree of tree: maximum of node degree in tree"
   ]
  },
  {
   "cell_type": "markdown",
   "metadata": {
    "colab_type": "text",
    "id": "rFnmAxrEqADY"
   },
   "source": [
    "## **Characteristics of trees**  \n",
    "* num. of edges = num. of nodes - 1  \n",
    "* depth of root = 0  \n",
    "* height of root = height of tree  \n",
    "* maximum num. of nodes at level $i$ with degree $d$ = $d^i$  \n",
    "* maximum num.of leaves with height $h$ and degree $d$ = $d^h$  \n",
    "* maximum size of a tree with height $h$ and degree $d$ = $1 + d^2 + \\cdots + d^h = \\frac{d^{h+1}-1}{d-1}$  \n",
    "* height of a complete tree with size $s$ and degree $d$  \n",
    "    $s = \\frac{d^{h+1}-1}{d-1} \\Rightarrow s(d-1) +1 = d^{h+1} \\Rightarrow \\ulcorner log_d s(d-1)+1 \\urcorner = h+1$  \n",
    "    $\\therefore h = \\ulcorner log_d s(d-1)+1 \\urcorner -1$"
   ]
  },
  {
   "cell_type": "markdown",
   "metadata": {
    "colab_type": "text",
    "id": "i4fYla6RqADb"
   },
   "source": [
    "### **Implementation of tree node**  \n",
    "* 3 references\n",
    "    + Left Hand Side (LHS)  \n",
    "    + Right Hand Side (RHS)  \n",
    "    + its own value\n",
    "    + its parent node  \n",
    "* LHS stores values have lower than its own value  \n",
    "* RHS stores values have higher than its own value"
   ]
  },
  {
   "cell_type": "code",
   "execution_count": null,
   "metadata": {
    "colab": {},
    "colab_type": "code",
    "id": "rXik2DL-qADe"
   },
   "outputs": [],
   "source": [
    "class TreeNode:\n",
    "    nodeLHS = None\n",
    "    nodeRHS = None\n",
    "    nodeParent = None\n",
    "    value = None\n",
    "    \n",
    "    def __init__(self, value, nodeParent):\n",
    "        self.value = value\n",
    "        self.nodeParent = nodeParent\n",
    "    def getLHS(self):\n",
    "        return self.nodeLHS\n",
    "    def getRHS(self):\n",
    "        return self.nodeRHS\n",
    "    def getValue(self):\n",
    "        return self.value\n",
    "    def getParent(self):\n",
    "        return self.nodeParent\n",
    "    def setLHS(self, LHS):\n",
    "        self.nodeLHS = LHS\n",
    "    def setRHS(self, RHS):\n",
    "        self.nodeRHS = RHS\n",
    "    def setValue(self, value):\n",
    "        self.value = value\n",
    "    def setParent(self, nodeParent):\n",
    "        self.nodeParent = nodeParent\n",
    " "
   ]
  },
  {
   "cell_type": "markdown",
   "metadata": {
    "colab_type": "text",
    "id": "dXyfnFP_qADv"
   },
   "source": [
    "## **Binary Search Tree**  \n",
    "* Tree with degree 2  \n",
    "* Tree designed for a fast search of stored data  \n",
    "* BST handles the data stored through its root\n",
    "    + Root has its own value\n",
    "    + Tree instance access to the root\n",
    "    + Only through the root, the tree instances access to the desendant nodes of the root\n",
    "    "
   ]
  },
  {
   "cell_type": "markdown",
   "metadata": {
    "colab_type": "text",
    "id": "1ucE39VmqADy"
   },
   "source": [
    "### **Implementation of BST**  \n",
    "#### **[Insert]**  \n",
    "> Retrieve the current node value  \n",
    "+ If the value is equal to the value to insert  \n",
    "    - Return already there!  \n",
    "+ If the value is smaller than the value to insert  \n",
    "    - If there is a node in RHS, then move to the RHS node (Recursion)  \n",
    "    - If there is no node in RHS, create a RHS node with the value to insert  \n",
    "+ If the value is larger than the value to insert  \n",
    "    - If there is a node in LHS, then move to the LHS node (Recursion)  \n",
    "    - If there is no node in LHS, create a LHS node with the value to insert  \n",
    "\n",
    "#### **[Search]**  \n",
    "> Retrieve the current node value\n",
    "+ If the value is equal to the value to search  \n",
    "    - Return TRUE  \n",
    "+ If the value is smaller than the value to search  \n",
    "    - If there is a node RHS, then move to the RHS node (Recursion)  \n",
    "    - If there is no node in RHS, return FALSE  \n",
    "+ If the value is larger than the value to search\n",
    "    - If there is a node LHS, then move to the LHS node (Recursion)  \n",
    "    - If there is no node in LHS, return FALSE    \n",
    "\n",
    "#### **[Delete]**  \n",
    ">First, you need to find the node to delete through recursions  \n",
    "Three deletion cases  \n",
    "+ Case1 : deleting a node with no children  \n",
    "    - Just remove the node by modifying its parent\n",
    "+ Case2 : deleting a node with one child  \n",
    "    - Replace the node with the child\n",
    "+ Case : deleting a node with two children, Find either  \n",
    "    - A maximum in the LHS or minimum in the RHS  \n",
    "    - Substitue the node to delete with the found value\n",
    "    - Delete the found node in the LHS or the RHS  \n",
    "\n",
    "#### **[Finding minimum/maximum]**\n",
    " : Just keep following the LHS / RHS\n",
    "         "
   ]
  },
  {
   "cell_type": "markdown",
   "metadata": {
    "colab_type": "text",
    "id": "ykz8tPXTqAD0"
   },
   "source": [
    "#### **[Tree traversing]**  \n",
    "Multiple ways to show the entire dataset  \n",
    "1. Depth first traverse  \n",
    "    + Pre-order traverse  \n",
    "        - Order : Current, LHS, RHS in recursion  \n",
    "    + In-order traverse  \n",
    "        - Order : LHS, Current, RHS in Recursion  \n",
    "    + Post-order traverse\n",
    "        - Order : LHS, RHS, Current in recursion  \n",
    "\n",
    "2. Breadth first traverse  \n",
    "    + Queue-based level-order traverse  \n",
    "    + Enqueue the root  \n",
    "        - While until queue is empty  \n",
    "            * Current = Dequeue one elemnet  \n",
    "            * Print current  \n",
    "            * If Current's LHS exist, Enqueue current.LHS  \n",
    "            * If Current's RHS exist, Enqueue current.RHS  \n",
    "            \n"
   ]
  },
  {
   "cell_type": "code",
   "execution_count": null,
   "metadata": {
    "colab": {},
    "colab_type": "code",
    "id": "Qen_VqhpqAD3"
   },
   "outputs": [],
   "source": [
    "class Node:\n",
    "    nodeNext = None\n",
    "    objValue = ''\n",
    "    binHead = False\n",
    "    binTail = False\n",
    "    def __init__(self, objValue = '', nodeNext = None, binHead = False, binTail = False):\n",
    "        self.nodeNext = nodeNext\n",
    "        self.objValue = objValue\n",
    "        self.binHead = binHead\n",
    "        self.binTail = binTail\n",
    "    def getValue(self):\n",
    "        return self.objValue\n",
    "    def setValue(self, objValue):\n",
    "        self.objValue = objValue\n",
    "    def getNext(self):\n",
    "        return self.nodeNext\n",
    "    def setNext(self, nodeNext):\n",
    "        self.nodeNext = nodeNext\n",
    "    def isHead(self):\n",
    "        return self.binHead\n",
    "    def isTail(self):\n",
    "        return self.binTail\n",
    "\n",
    "class SinglyLinkedList:\n",
    "    nodeHead = ''\n",
    "    nodeTail = ''\n",
    "    size = 0\n",
    "    def __init__(self):\n",
    "        self.nodeTail = Node(binTail = True)\n",
    "        self.nodeHead = Node(binHead = True, nodeNext = self.nodeTail)\n",
    "    \n",
    "    def get(self, idxRetrieve):\n",
    "        nodeReturn = self.nodeHead\n",
    "        for i in range(idxRetrieve + 1):\n",
    "            nodeReturn = nodeReturn.getNext()\n",
    "        return nodeReturn\n",
    "            \n",
    "    def insertAt(self, objInsert, idxInsert):\n",
    "        nodeNew = Node(objValue = objInsert)\n",
    "        nodePrev = self.get(idxInsert-1)\n",
    "        nodeNext = nodePrev.getNext()\n",
    "        nodePrev.setNext(nodeNew)\n",
    "        nodeNew.setNext(nodeNext)\n",
    "        self.size = self.size + 1\n",
    "        \n",
    "    def removeAt(self, idxRemove):\n",
    "        nodePrev = self.get(idxRemove-1)\n",
    "        nodeRemove = nodePrev.getNext()\n",
    "        nodeNext = nodeRemove.getNext()\n",
    "        nodePrev.setNext(nodeNext)\n",
    "        self.size = self.size - 1\n",
    "        return nodeRemove.getValue()\n",
    "    \n",
    "    def printStatus(self):\n",
    "        nodeCurrent = self.nodeHead\n",
    "        while nodeCurrent.getNext().isTail() == False:\n",
    "            nodeCurrent = nodeCurrent.getNext()\n",
    "            print(nodeCurrent.getValue(), end= \" \")\n",
    "        print(\"\")\n",
    "    \n",
    "    def getSize(self):\n",
    "        return self.size\n",
    "        \n",
    "\n",
    "class Queue(object):\n",
    "    lstInstance = SinglyLinkedList()\n",
    "    def dequeue(self):\n",
    "        return self.lstInstance.removeAt(0)\n",
    "    def enqueue(self, value):\n",
    "        self.lstInstance.insertAt(value, self.lstInstance.getSize())\n",
    "    def isEmpty(self):\n",
    "        if self.lstInstance.getSize() == 0:\n",
    "            return True\n",
    "        else:\n",
    "            return False"
   ]
  },
  {
   "cell_type": "code",
   "execution_count": null,
   "metadata": {
    "colab": {},
    "colab_type": "code",
    "id": "g8xCFioMqAEC"
   },
   "outputs": [],
   "source": [
    "class BinarySearchTree:\n",
    "    root = None\n",
    "    \n",
    "    def __init__(self):\n",
    "        pass\n",
    "    def insert(self, value, node = None):\n",
    "        if node is None:\n",
    "            node = self.root\n",
    "        if self.root is None:\n",
    "            self.root = TreeNode(value, None)\n",
    "            return\n",
    "        if value == node.getValue():\n",
    "            return\n",
    "        if value > node.getValue():\n",
    "            if node.getRHS() is None:\n",
    "                node.setRHS(TreeNode(value, node))\n",
    "            else:\n",
    "                self.insert(value, node.getRHS()) # recursion\n",
    "        if value < node.getValue():\n",
    "            if node.getLHS() is None:\n",
    "                node.setLHS(TreeNode(value, node))\n",
    "            else:\n",
    "                self.insert(value, node.getLHS()) # recursion\n",
    "        return\n",
    "    \n",
    "    def search(self, value, node = None):\n",
    "        if node is None:\n",
    "            node = self.root\n",
    "        if value == node.getValue():\n",
    "            return True\n",
    "        if value > node.getValue():\n",
    "            if node.getRHS() is None:\n",
    "                return False\n",
    "            else:\n",
    "                return self.search(value, node.getRHS()) # recursion\n",
    "        if value < node.getValue():\n",
    "            if node.getLHS() is None:\n",
    "                return False\n",
    "            else:\n",
    "                return self.search(value, node.getLHS()) # recursion\n",
    "    \n",
    "    def delete(self, value, node = None):\n",
    "        if node is None:\n",
    "            node = self.root\n",
    "        if node.getValue() < value:\n",
    "            return self.delete(value, node.getRHS()) # recursion\n",
    "        if node.getValue() > value:\n",
    "            return self.delete(value, node.getLHS()) # recursion\n",
    "        if node.getValue() == value:\n",
    "            if node.getLHS() is not None and node.getRHS() is not None:\n",
    "                nodeMin = self.findMin(node.getRHS())\n",
    "                node.setValue(nodeMin.getValue())\n",
    "                self.delete(nodeMin.getValue(), node.getRHS())\n",
    "                return \n",
    "            parent = node.getParent()\n",
    "            if node.getLHS() is not None:\n",
    "                if node == self.root:\n",
    "                    self.root = node.getLHS()\n",
    "                elif parent.getLHS() == node:\n",
    "                    parent.setLHS(node.getLHS())\n",
    "                    node.getLHS().setParent(parent)\n",
    "                else:\n",
    "                    parent.setRHS(node.getLHS())\n",
    "                    node.getLHS().setParent(parent)\n",
    "                return\n",
    "            if node.getRHS() is not None:\n",
    "                if node == self.root:\n",
    "                    self.root = node.getRHS()\n",
    "                elif parent.getLHS() == node:\n",
    "                    parent.setLHS(node.getRHS())\n",
    "                    node.getRHS().setParent(parent)\n",
    "                else:\n",
    "                    parent.setRHS(node.getRHS())\n",
    "                    node.getRHS().setParent(parent)\n",
    "                return\n",
    "            if node == self.root:\n",
    "                self.root = None\n",
    "            elif parent.getLHS() == node:\n",
    "                parent.setLHS(None)\n",
    "            else:\n",
    "                parent.setRHS(None)\n",
    "            return\n",
    "    \n",
    "    def findMax(self, node = None):\n",
    "        if node is None:\n",
    "            node = self.root\n",
    "        if node.getRHS() is None:\n",
    "            return node\n",
    "        return self.findMax(node.getRHS())\n",
    "    def findMin(self, node = None):\n",
    "        if node is None:\n",
    "            node = self.root\n",
    "        if node.getLHS() is None:\n",
    "            return node\n",
    "        return self.findMin(node.getLHS())\n",
    "    \n",
    "    def traverseLevelOrder(self):\n",
    "        ret = []\n",
    "        Q = Queue()\n",
    "        Q.enqueue(self.root)\n",
    "        while not Q.isEmpty():\n",
    "            node = Q.dequeue()\n",
    "            if node is None:\n",
    "                continue\n",
    "            ret.append(node.getValue())\n",
    "            if node.getLHS() is not None:\n",
    "                Q.enqueue(node.getLHS())\n",
    "            if node.getRHS() is not None:\n",
    "                Q.enqueue(node.getRHS())\n",
    "        return ret\n",
    "    \n",
    "    def traverseInOrder(self, node = None):\n",
    "        if node is None:\n",
    "            node = self.root\n",
    "        ret = []\n",
    "        if node.getLHS() is not None:\n",
    "            ret = ret + self.traverseInOrder(node.getLHS())\n",
    "        ret.append(node.getValue())\n",
    "        if node.getRHS() is not None:\n",
    "            ret = ret + self.traverseInOrder(node.getRHS())\n",
    "        return ret\n",
    "    \n",
    "    def traversePreOrder(self, node = None):\n",
    "        if node is None:\n",
    "            node = self.root\n",
    "        ret = []\n",
    "        ret.append(node.getValue())\n",
    "        if node.getLHS() is not None:\n",
    "            ret = ret + self.traversePreOrder(node.getLHS())\n",
    "        if node.getRHS() is not None:\n",
    "            ret = ret + self.traversePreOrder(node.getRHS())\n",
    "        return ret\n",
    "    \n",
    "    def traversePostOrder(self, node = None):\n",
    "        if node is None:\n",
    "            node = self.root\n",
    "        ret = []\n",
    "        if node.getLHS() is not None:\n",
    "            ret = ret + self.traversePostOrder(node.getLHS())\n",
    "        if node.getRHS() is not None:\n",
    "            ret = ret + self.traversePostOrder(node.getRHS())\n",
    "        ret.append(node.getValue())\n",
    "        return ret"
   ]
  },
  {
   "cell_type": "markdown",
   "metadata": {
    "colab_type": "text",
    "id": "ST3VfUdaqAEP"
   },
   "source": [
    "#### **[example]**\n",
    "<img src=\"https://github.com/ddoeunn/Linear-Structure-and-Dynamic-Programming/blob/main/images/tree.png?raw=true\" width=300>"
   ]
  },
  {
   "cell_type": "code",
   "execution_count": null,
   "metadata": {
    "colab": {},
    "colab_type": "code",
    "id": "GAOvdiDrqAES"
   },
   "outputs": [],
   "source": [
    "tree = BinarySearchTree()\n",
    "tree.insert(3)\n",
    "tree.insert(2)\n",
    "tree.insert(0)\n",
    "tree.insert(5)\n",
    "tree.insert(7)\n",
    "tree.insert(4)\n",
    "tree.insert(6)\n",
    "tree.insert(1)\n",
    "tree.insert(9)\n",
    "tree.insert(8)"
   ]
  },
  {
   "cell_type": "code",
   "execution_count": null,
   "metadata": {
    "colab": {},
    "colab_type": "code",
    "id": "4KzaTUsPqAEf",
    "outputId": "07d2c9e7-066d-483b-89ee-ef112948fb1f"
   },
   "outputs": [
    {
     "name": "stdout",
     "output_type": "stream",
     "text": [
      "[3, 2, 5, 0, 4, 7, 1, 6, 9, 8]\n",
      "[0, 1, 2, 3, 4, 5, 6, 7, 8, 9]\n",
      "[3, 2, 0, 1, 5, 4, 7, 6, 9, 8]\n",
      "[1, 0, 2, 4, 6, 8, 9, 7, 5, 3]\n"
     ]
    }
   ],
   "source": [
    "print(tree.traverseLevelOrder())\n",
    "print(tree.traverseInOrder())\n",
    "print(tree.traversePreOrder())\n",
    "print(tree.traversePostOrder())"
   ]
  },
  {
   "cell_type": "code",
   "execution_count": null,
   "metadata": {
    "colab": {},
    "colab_type": "code",
    "id": "TJ8g41ihqAE1",
    "outputId": "4c8c9be0-063b-439c-9361-d7854a7a99ab"
   },
   "outputs": [
    {
     "name": "stdout",
     "output_type": "stream",
     "text": [
      "[3, 2, 6, 0, 4, 7, 1, 9, 8]\n",
      "[3, 2, 6, 0, 4, 7, 9, 8]\n",
      "[3, 2, 6, 0, 4, 7, 8]\n",
      "[4, 2, 6, 0, 7, 8]\n"
     ]
    }
   ],
   "source": [
    "tree.delete(5)\n",
    "print(tree.traverseLevelOrder())\n",
    "\n",
    "tree.delete(1)\n",
    "print(tree.traverseLevelOrder())\n",
    "\n",
    "tree.delete(9)\n",
    "print(tree.traverseLevelOrder())\n",
    "\n",
    "tree.delete(3)\n",
    "print(tree.traverseLevelOrder())\n"
   ]
  },
  {
   "cell_type": "markdown",
   "metadata": {},
   "source": [
    "# Reference\n",
    "https://www.edwith.org/datastructure-2019s/joinLectures/21992"
   ]
  }
 ],
 "metadata": {
  "colab": {
   "name": "2. Tree.ipynb",
   "provenance": []
  },
  "kernelspec": {
   "display_name": "Python 3",
   "language": "python",
   "name": "python3"
  },
  "language_info": {
   "codemirror_mode": {
    "name": "ipython",
    "version": 3
   },
   "file_extension": ".py",
   "mimetype": "text/x-python",
   "name": "python",
   "nbconvert_exporter": "python",
   "pygments_lexer": "ipython3",
   "version": "3.7.6"
  },
  "toc": {
   "base_numbering": 1,
   "nav_menu": {},
   "number_sections": false,
   "sideBar": true,
   "skip_h1_title": false,
   "title_cell": "Table of Contents",
   "title_sidebar": "Contents",
   "toc_cell": false,
   "toc_position": {},
   "toc_section_display": true,
   "toc_window_display": true
  },
  "varInspector": {
   "cols": {
    "lenName": 16,
    "lenType": 16,
    "lenVar": 40
   },
   "kernels_config": {
    "python": {
     "delete_cmd_postfix": "",
     "delete_cmd_prefix": "del ",
     "library": "var_list.py",
     "varRefreshCmd": "print(var_dic_list())"
    },
    "r": {
     "delete_cmd_postfix": ") ",
     "delete_cmd_prefix": "rm(",
     "library": "var_list.r",
     "varRefreshCmd": "cat(var_dic_list()) "
    }
   },
   "types_to_exclude": [
    "module",
    "function",
    "builtin_function_or_method",
    "instance",
    "_Feature"
   ],
   "window_display": false
  }
 },
 "nbformat": 4,
 "nbformat_minor": 1
}
