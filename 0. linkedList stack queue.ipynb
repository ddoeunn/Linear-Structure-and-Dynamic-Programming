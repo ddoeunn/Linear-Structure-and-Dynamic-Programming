{
 "cells": [
  {
   "cell_type": "markdown",
   "metadata": {},
   "source": [
    "# **Abstract Data Types**  "
   ]
  },
  {
   "cell_type": "markdown",
   "metadata": {},
   "source": [
    "* An abstract data type(ADT) is an abstraction of a data structure.  \n",
    "* An ADT specifies : \n",
    "    + Data stored  \n",
    "    + Operations on the data  \n",
    "    + Error conditions associated with operations  "
   ]
  },
  {
   "cell_type": "markdown",
   "metadata": {},
   "source": [
    "# **Assignment and Equivalence**"
   ]
  },
  {
   "cell_type": "code",
   "execution_count": 1,
   "metadata": {},
   "outputs": [
    {
     "name": "stdout",
     "output_type": "stream",
     "text": [
      "x :  [1, 2, 3]\n",
      "y :  [100, [1, 2, 3], 120]\n",
      "z :  [[1, 2, 3], 'a', 'b']\n",
      "x :  [1, 1717, 3]\n",
      "y :  [100, [1, 1717, 3], 120]\n",
      "z :  [[1, 1717, 3], 'a', 'b']\n",
      "Values are equivalent\n",
      "Values are not stored at the same place\n",
      "Values are stored at the same place\n"
     ]
    }
   ],
   "source": [
    "x = [1, 2, 3]\n",
    "y = [100, x, 120]\n",
    "z = [x, 'a', 'b']\n",
    "\n",
    "print('x : ', x)\n",
    "print('y : ', y)\n",
    "print('z : ', z)\n",
    "\n",
    "x[1] = 1717\n",
    "\n",
    "print('x : ', x)\n",
    "print('y : ', y)\n",
    "print('z : ', z)\n",
    "\n",
    "x[1] = 2\n",
    "x2 = [1, 2, 3]\n",
    "if x == x2:\n",
    "    print(\"Values are equivalent\")\n",
    "else:\n",
    "    print(\"Values are not equivalent\")\n",
    "    \n",
    "if x is x2:\n",
    "    print(\"Values are stored at the same place\")\n",
    "else:\n",
    "    print(\"Values are not stored at the same place\")\n",
    "    \n",
    "if x[1] is y[1][1]:\n",
    "    print(\"Values are stored at the same place\")\n",
    "else:\n",
    "    print(\"Values are not stored at the same place\")"
   ]
  },
  {
   "cell_type": "markdown",
   "metadata": {},
   "source": [
    "# **List**   \n",
    "* Each element is accessible by index.  \n",
    "* Index is typically zero or a positive integer.  \n"
   ]
  },
  {
   "cell_type": "markdown",
   "metadata": {},
   "source": [
    "## **Creating a List by Array**"
   ]
  },
  {
   "cell_type": "code",
   "execution_count": 2,
   "metadata": {},
   "outputs": [
    {
     "name": "stdout",
     "output_type": "stream",
     "text": [
      "a\n",
      "f\n"
     ]
    }
   ],
   "source": [
    "x = ['a', 'b', 'd', 'e', 'f']\n",
    "print(x[0])\n",
    "print(x[4])"
   ]
  },
  {
   "cell_type": "markdown",
   "metadata": {},
   "source": [
    "## **Search procedure in Array**  \n",
    "***Let's find 'd' and 'c' from the list in an array***"
   ]
  },
  {
   "cell_type": "code",
   "execution_count": 3,
   "metadata": {},
   "outputs": [],
   "source": [
    "def search_array(arr, element):\n",
    "    n = len(arr)\n",
    "    for i in range(0, n):\n",
    "        if arr[i] == element:\n",
    "            print('Hit! index = ', i)\n",
    "            break\n",
    "    if i == n-1:\n",
    "        print('there is no ', element)"
   ]
  },
  {
   "cell_type": "code",
   "execution_count": 4,
   "metadata": {},
   "outputs": [
    {
     "name": "stdout",
     "output_type": "stream",
     "text": [
      "there is no  c\n"
     ]
    }
   ],
   "source": [
    "search_array(x, 'c')"
   ]
  },
  {
   "cell_type": "code",
   "execution_count": 5,
   "metadata": {},
   "outputs": [
    {
     "name": "stdout",
     "output_type": "stream",
     "text": [
      "Hit! index =  2\n"
     ]
    }
   ],
   "source": [
    "search_array(x, 'd')"
   ]
  },
  {
   "cell_type": "code",
   "execution_count": 6,
   "metadata": {},
   "outputs": [
    {
     "name": "stdout",
     "output_type": "stream",
     "text": [
      "False\n",
      "True\n"
     ]
    }
   ],
   "source": [
    "print('c' in x)\n",
    "print('d' in x)"
   ]
  },
  {
   "cell_type": "markdown",
   "metadata": {},
   "source": [
    "## **Insert procedure in Array**  \n",
    "***Let's insert 'c' between 'b' and 'd' in the list (a = insert position index)***  \n",
    "* First, make new list with six cells.  \n",
    "* Second, copy the reference links of x[0:a-1] to y[0:a-1] (retrieval cnt : a)  \n",
    "* Third, iput a reference link to 'c' in y[a] (retrieval cnt :1)  \n",
    "* Fourth, copy the reference links of x[a:] to y[a+1:] (retrieval cnt : n-a-1)  \n",
    "* Fifth, change x's reference to y's reference  \n",
    "* Total count of retrievals = a+1+n-a-a = n"
   ]
  },
  {
   "cell_type": "code",
   "execution_count": 7,
   "metadata": {},
   "outputs": [
    {
     "data": {
      "text/plain": [
       "['a', 'b', 'c', 'd', 'e', 'f']"
      ]
     },
     "execution_count": 7,
     "metadata": {},
     "output_type": "execute_result"
    }
   ],
   "source": [
    "idxInsert = 2\n",
    "valInsert = 'c'\n",
    "\n",
    "y = list(range(6))\n",
    "\n",
    "for i in range(0, idxInsert):\n",
    "    y[i] = x[i]\n",
    "\n",
    "y[idxInsert] = valInsert\n",
    "\n",
    "for i in range(idxInsert, len(x)):\n",
    "    y[i+1] = x[i]\n",
    "x = y\n",
    "x"
   ]
  },
  {
   "cell_type": "markdown",
   "metadata": {},
   "source": [
    "## **Delete procedure in Array**  \n",
    "***Let's remove 'd' in the list (a = delete position index)***  \n",
    "* First, make new list with five cells  \n",
    "* Second, copy the reference links of x[0:a-1] to y[0:a-1] (retrieval cnt : a)  \n",
    "* Third, copy the reference links of x[a+1:] to y[a:] (retrieval cnt : n-a-1)  \n",
    "* Fourth, change x's refernece to y's reference  \n",
    "* Total count of retrievals = a+n-a-1 = n-1"
   ]
  },
  {
   "cell_type": "code",
   "execution_count": 8,
   "metadata": {},
   "outputs": [
    {
     "data": {
      "text/plain": [
       "['a', 'b', 'c', 'e', 'f']"
      ]
     },
     "execution_count": 8,
     "metadata": {},
     "output_type": "execute_result"
    }
   ],
   "source": [
    "idxDelete = 3\n",
    "y = list(range(5))\n",
    "for i in range(0, idxDelete):\n",
    "    y[i] = x[i]\n",
    "\n",
    "for i in range(idxDelete+1, len(x)):\n",
    "    y[i-1] = x[i]\n",
    "x = y\n",
    "x"
   ]
  },
  {
   "cell_type": "markdown",
   "metadata": {},
   "source": [
    "## **Problems in Array**  \n",
    "* Whenever you put something in or get something out, you have to perform line-wise retrievals (Which is N retrievals)  \n",
    "* What if create a space in the middle of the line?"
   ]
  },
  {
   "cell_type": "markdown",
   "metadata": {},
   "source": [
    "# **LinkedList**  \n",
    "* Construct a singly linked list with nodes and references  \n",
    "* A node consists of  \n",
    "    + A variable to hold a reference to its next node  \n",
    "    + A variable to hold a reference to its value object  \n",
    "* Special nodes : Head and Tail  \n",
    "    + You can construct the singly linked list without them  \n",
    "    + But, using them makes search, insert and delete more convenient  \n",
    " "
   ]
  },
  {
   "cell_type": "markdown",
   "metadata": {},
   "source": [
    "## **Implementation of Node class**  \n",
    "* Member variables  \n",
    "    + Variable to reference the next node  \n",
    "    + Variable to hold a value object  \n",
    "    + (Optional) Variable to check whether it is a head or not  \n",
    "    + (Optional) Variable to check whether it is a tail or not  \n",
    "* Member functions  \n",
    "    + Various set/get methods"
   ]
  },
  {
   "cell_type": "code",
   "execution_count": 9,
   "metadata": {},
   "outputs": [],
   "source": [
    "class Node:\n",
    "    nodeNext = None\n",
    "    objValue = ''\n",
    "    binHead = False\n",
    "    binTail = False\n",
    "    def __init__(self, objValue = '', nodeNext = None, binHead = False, binTail = False):\n",
    "        self.nodeNext = nodeNext\n",
    "        self.objValue = objValue\n",
    "        self.binHead = binHead\n",
    "        self.binTail = binTail\n",
    "    def getValue(self):\n",
    "        return self.objValue\n",
    "    def setValue(self, objValue):\n",
    "        self.objValue = objValue\n",
    "    def getNext(self):\n",
    "        return self.nodeNext\n",
    "    def setNext(self, nodeNext):\n",
    "        self.nodeNext = nodeNext\n",
    "    def isHead(self):\n",
    "        return self.binHead\n",
    "    def isTail(self):\n",
    "        return self.binTail"
   ]
  },
  {
   "cell_type": "code",
   "execution_count": 10,
   "metadata": {},
   "outputs": [
    {
     "name": "stdout",
     "output_type": "stream",
     "text": [
      "a\n",
      "None\n",
      "<__main__.Node object at 0x00000191B568FC88>\n"
     ]
    }
   ],
   "source": [
    "node1 = Node(objValue = 'a')\n",
    "nodeTail = Node(binTail = True)\n",
    "nodeHead = Node(binHead = True, nodeNext = node1)\n",
    "\n",
    "print(node1.getValue())\n",
    "print(node1.getNext())\n",
    "node1.setNext(nodeNext = nodeTail)\n",
    "print(node1.getNext())"
   ]
  },
  {
   "cell_type": "code",
   "execution_count": 11,
   "metadata": {},
   "outputs": [
    {
     "name": "stdout",
     "output_type": "stream",
     "text": [
      "True\n",
      "\n",
      "<__main__.Node object at 0x00000191B5136BC8>\n"
     ]
    }
   ],
   "source": [
    "print(nodeHead.isHead())\n",
    "print(nodeHead.getValue())\n",
    "print(nodeHead.getNext())"
   ]
  },
  {
   "cell_type": "code",
   "execution_count": 12,
   "metadata": {},
   "outputs": [
    {
     "name": "stdout",
     "output_type": "stream",
     "text": [
      "True\n",
      "\n",
      "None\n"
     ]
    }
   ],
   "source": [
    "print(nodeTail.isTail())\n",
    "print(nodeTail.getValue())\n",
    "print(nodeTail.getNext())"
   ]
  },
  {
   "cell_type": "markdown",
   "metadata": {},
   "source": [
    "## **Head and Tail**  \n",
    "* Head : Always at the first of the list  \n",
    "* Tail : Always at the last of the list  \n",
    "* These are optional nodes"
   ]
  },
  {
   "cell_type": "markdown",
   "metadata": {},
   "source": [
    "## **Search procedure in singly linked list**  \n",
    "* navigating from the first to the last until hit  \n",
    "* find head from list  \n",
    "* find next node  \n",
    "    + if next == tail break\n",
    "    + if next != tail next check next.object == 'd'  \n",
    "    + next.next "
   ]
  },
  {
   "cell_type": "markdown",
   "metadata": {},
   "source": [
    "## **Insert procedure in singly linked list**  \n",
    "* With an assumption that you have a reference to the node, Nodeprev that you want to put your new node next.  \n",
    "* First, you store a Node, or a Nodenext, pointed by a reference from Nodeprev's nodeNext member variable.  \n",
    "* Second, you change a reference from Nodeprev's nodeNext to Nodenew.  \n",
    "* Third, you change a reference from Nodenew's nodeNext to Nodenext."
   ]
  },
  {
   "cell_type": "markdown",
   "metadata": {},
   "source": [
    "## **Delete procedure in singly linked list**  \n",
    "* With an assumption that you have a reference to the node, Nodeprev that you want to remove the node next.  \n",
    "* First, you retrieve Nodenext that is two steps next from Nodeprev.  \n",
    "* Second, you change a reference from Nodeprev's nodeNext to Nodenext.  \n",
    "* The node will be removed because there is no reference to Noderemove. "
   ]
  },
  {
   "cell_type": "markdown",
   "metadata": {},
   "source": [
    "## **Implementation of Singly linked list**"
   ]
  },
  {
   "cell_type": "code",
   "execution_count": 15,
   "metadata": {},
   "outputs": [],
   "source": [
    "class SinglyLinkedList:\n",
    "    nodeHead = ''\n",
    "    nodeTail = ''\n",
    "    size = 0\n",
    "    def __init__(self):\n",
    "        self.nodeTail = Node(binTail = True)\n",
    "        self.nodeHead = Node(binHead = True, nodeNext = self.nodeTail)\n",
    "    \n",
    "    def get(self, idxRetrieve):\n",
    "        nodeReturn = self.nodeHead\n",
    "        for i in range(idxRetrieve + 1):\n",
    "            nodeReturn = nodeReturn.getNext()\n",
    "        return nodeReturn\n",
    "            \n",
    "    def insertAt(self, objInsert, idxInsert):\n",
    "        nodeNew = Node(objValue = objInsert)\n",
    "        nodePrev = self.get(idxInsert-1)\n",
    "        nodeNext = nodePrev.getNext()\n",
    "        nodePrev.setNext(nodeNew)\n",
    "        nodeNew.setNext(nodeNext)\n",
    "        self.size = self.size + 1\n",
    "        \n",
    "    def removeAt(self, idxRemove):\n",
    "        nodePrev = self.get(idxRemove-1)\n",
    "        nodeRemove = nodePrev.getNext()\n",
    "        nodeNext = nodeRemove.getNext()\n",
    "        nodePrev.setNext(nodeNext)\n",
    "        self.size = self.size - 1\n",
    "        return nodeRemove.getValue()\n",
    "    \n",
    "    def printStatus(self):\n",
    "        nodeCurrent = self.nodeHead\n",
    "        while nodeCurrent.getNext().isTail() == False:\n",
    "            nodeCurrent = nodeCurrent.getNext()\n",
    "            print(nodeCurrent.getValue(), end= \" \")\n",
    "        print(\"\")\n",
    "    \n",
    "    def getSize(self):\n",
    "        return self.size\n",
    "        "
   ]
  },
  {
   "cell_type": "code",
   "execution_count": 18,
   "metadata": {},
   "outputs": [
    {
     "name": "stdout",
     "output_type": "stream",
     "text": [
      "a b d e f \n"
     ]
    }
   ],
   "source": [
    "list1 = SinglyLinkedList()\n",
    "list1.insertAt('a', 0)\n",
    "list1.insertAt('b', 1)\n",
    "list1.insertAt('d', 2)\n",
    "list1.insertAt('e', 3)\n",
    "list1.insertAt('f', 4)\n",
    "list1.printStatus()"
   ]
  },
  {
   "cell_type": "code",
   "execution_count": 19,
   "metadata": {},
   "outputs": [
    {
     "name": "stdout",
     "output_type": "stream",
     "text": [
      "a b c d e f \n"
     ]
    }
   ],
   "source": [
    "list1.insertAt('c', 2)\n",
    "list1.printStatus()"
   ]
  },
  {
   "cell_type": "code",
   "execution_count": 20,
   "metadata": {},
   "outputs": [
    {
     "name": "stdout",
     "output_type": "stream",
     "text": [
      "a b c e f \n"
     ]
    }
   ],
   "source": [
    "list1.removeAt(3)\n",
    "list1.printStatus()"
   ]
  },
  {
   "cell_type": "markdown",
   "metadata": {},
   "source": [
    "# **Stack**  \n",
    "* linear like linked list (variation of a singly linked list)  \n",
    "* Voluntarily giving up  \n",
    "    + Access to the middle in the linked list  \n",
    "    + Only accesses to the first instance in the list  \n",
    "* The first instance in the list = The top instance in the stack  \n",
    "* An item is inserted or removed from the stack from one end called the \"top\" of the stack  \n",
    "* LIFO : Last-In-First-Out"
   ]
  },
  {
   "cell_type": "markdown",
   "metadata": {},
   "source": [
    "## **Operation of Stack**  \n",
    "* Push  \n",
    "    + Insert an instance at the first in the linked list  \n",
    "    + = Put an instance at the top in the stack  \n",
    "* Pop  \n",
    "    + Remove and return an instance at the first in the linked list  \n",
    "    +  = Remove and return an instance at the top in the stack"
   ]
  },
  {
   "cell_type": "markdown",
   "metadata": {},
   "source": [
    "## **Implementation of Stack**"
   ]
  },
  {
   "cell_type": "code",
   "execution_count": 21,
   "metadata": {},
   "outputs": [],
   "source": [
    "class Stack(object):\n",
    "    lstInstance = SinglyLinkedList()\n",
    "    def pop(self):\n",
    "        return self.lstInstance.removeAt(0)\n",
    "    def push(self, value):\n",
    "        self.lstInstance.insertAt(value, 0)"
   ]
  },
  {
   "cell_type": "code",
   "execution_count": 22,
   "metadata": {},
   "outputs": [
    {
     "name": "stdout",
     "output_type": "stream",
     "text": [
      "c\n",
      "b\n",
      "a\n"
     ]
    }
   ],
   "source": [
    "stack = Stack()\n",
    "stack.push(\"a\")\n",
    "stack.push(\"b\")\n",
    "stack.push(\"c\")\n",
    "print(stack.pop())\n",
    "print(stack.pop())\n",
    "print(stack.pop())\n"
   ]
  },
  {
   "cell_type": "markdown",
   "metadata": {},
   "source": [
    "# **Queue**  \n",
    "* linear like linked list  \n",
    "* Volutarily giving up  \n",
    "    + Access to the middle in the linked list  \n",
    "    + Only accesses to the first and the last instances in the list  \n",
    "* The first instance in the list = The front instance in the queue  \n",
    "* The last instance in the list = The rear instance in the queue  \n",
    "* An item is inserted at the last  \n",
    "* An item is removed at the front  \n",
    "* FIFO : First-In-First-Out"
   ]
  },
  {
   "cell_type": "markdown",
   "metadata": {},
   "source": [
    "## **Operation of Queue**  \n",
    "* Enqueue  \n",
    "    + Insert an instance at the last in the linked list  \n",
    "    + = Put an instance at the rear in the queue  \n",
    "* Dequeue  \n",
    "    + Remove and return an instance at the first in the list  \n",
    "    + = Remove and return an instance at the front in the queue  \n",
    "    "
   ]
  },
  {
   "cell_type": "markdown",
   "metadata": {},
   "source": [
    "## **Implementation of Queue** "
   ]
  },
  {
   "cell_type": "code",
   "execution_count": 23,
   "metadata": {},
   "outputs": [],
   "source": [
    "class Queue(object):\n",
    "    lstInstance = SinglyLinkedList()\n",
    "    def dequeue(self):\n",
    "        return self.lstInstance.removeAt(0)\n",
    "    def enqueue(self, value):\n",
    "        self.lstInstance.insertAt(value, self.lstInstance.getSize())"
   ]
  },
  {
   "cell_type": "code",
   "execution_count": 24,
   "metadata": {},
   "outputs": [
    {
     "name": "stdout",
     "output_type": "stream",
     "text": [
      "a\n",
      "b\n",
      "c\n"
     ]
    }
   ],
   "source": [
    "queue = Queue()\n",
    "queue.enqueue(\"a\")\n",
    "queue.enqueue(\"b\")\n",
    "queue.enqueue(\"c\")\n",
    "print(queue.dequeue())\n",
    "print(queue.dequeue())\n",
    "print(queue.dequeue())"
   ]
  },
  {
   "cell_type": "markdown",
   "metadata": {},
   "source": [
    "# Reference\n",
    "https://www.edwith.org/datastructure-2019s/joinLectures/21992"
   ]
  }
 ],
 "metadata": {
  "kernelspec": {
   "display_name": "Python 3",
   "language": "python",
   "name": "python3"
  },
  "language_info": {
   "codemirror_mode": {
    "name": "ipython",
    "version": 3
   },
   "file_extension": ".py",
   "mimetype": "text/x-python",
   "name": "python",
   "nbconvert_exporter": "python",
   "pygments_lexer": "ipython3",
   "version": "3.7.6"
  },
  "toc": {
   "base_numbering": 1,
   "nav_menu": {},
   "number_sections": false,
   "sideBar": true,
   "skip_h1_title": false,
   "title_cell": "Table of Contents",
   "title_sidebar": "Contents",
   "toc_cell": false,
   "toc_position": {
    "height": "calc(100% - 180px)",
    "left": "10px",
    "top": "150px",
    "width": "256px"
   },
   "toc_section_display": true,
   "toc_window_display": true
  },
  "varInspector": {
   "cols": {
    "lenName": 16,
    "lenType": 16,
    "lenVar": 40
   },
   "kernels_config": {
    "python": {
     "delete_cmd_postfix": "",
     "delete_cmd_prefix": "del ",
     "library": "var_list.py",
     "varRefreshCmd": "print(var_dic_list())"
    },
    "r": {
     "delete_cmd_postfix": ") ",
     "delete_cmd_prefix": "rm(",
     "library": "var_list.r",
     "varRefreshCmd": "cat(var_dic_list()) "
    }
   },
   "types_to_exclude": [
    "module",
    "function",
    "builtin_function_or_method",
    "instance",
    "_Feature"
   ],
   "window_display": false
  }
 },
 "nbformat": 4,
 "nbformat_minor": 4
}
