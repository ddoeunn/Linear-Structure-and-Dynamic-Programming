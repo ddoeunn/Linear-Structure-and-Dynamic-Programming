{
 "cells": [
  {
   "cell_type": "markdown",
   "metadata": {},
   "source": [
    "---\n",
    "# **Recursion**  \n",
    "* A programming method to handle the repeating items in a self-similar way  \n",
    "* Calling a function wihin the function  \n",
    "* Stackframe  \n",
    "    +  a stack storing function call history  \n",
    "    + Push : When a function is invoked (called)  \n",
    "    + Pop : When a function hits return or ends  \n",
    "    + storing local variables (variables within function) and function call parameters"
   ]
  },
  {
   "cell_type": "markdown",
   "metadata": {},
   "source": [
    "## **Fibonacci**  \n",
    "$Fibonacci(n) = \\begin{cases}\n",
    "0, & n=0 \\\\\n",
    "1, & n=1 \\\\\n",
    "Fibonacci(n-1) + Fibonacci(n-2) & n \\ge 2\n",
    "\\end{cases}$"
   ]
  },
  {
   "cell_type": "code",
   "execution_count": 5,
   "metadata": {},
   "outputs": [],
   "source": [
    "def fibonacci(n):\n",
    "    print('F({})'.format(n))\n",
    "    if n == 0:\n",
    "        return 0\n",
    "    if n == 1:\n",
    "        return 1\n",
    "    intRet = fibonacci(n-1) + fibonacci(n-2)\n",
    "    return intRet"
   ]
  },
  {
   "cell_type": "code",
   "execution_count": 6,
   "metadata": {},
   "outputs": [
    {
     "name": "stdout",
     "output_type": "stream",
     "text": [
      "F(4)\n",
      "F(3)\n",
      "F(2)\n",
      "F(1)\n",
      "F(0)\n",
      "F(1)\n",
      "F(2)\n",
      "F(1)\n",
      "F(0)\n"
     ]
    },
    {
     "data": {
      "text/plain": [
       "3"
      ]
     },
     "execution_count": 6,
     "metadata": {},
     "output_type": "execute_result"
    }
   ],
   "source": [
    "fibonacci(4)"
   ]
  },
  {
   "cell_type": "markdown",
   "metadata": {},
   "source": [
    "## **Merge Sort**  \n",
    "* Decompose into two smaller lists  \n",
    "* Aggregate to one larger and sorted list  "
   ]
  },
  {
   "cell_type": "code",
   "execution_count": 7,
   "metadata": {},
   "outputs": [],
   "source": [
    "import random\n",
    "\n",
    "def performMergeSort(lstElementToSort):\n",
    "    if len(lstElementToSort) == 1:\n",
    "        return lstElementToSort\n",
    "    # Decomposition\n",
    "    lstSubElementToSort1 = []\n",
    "    lstSubElementToSort2 = []\n",
    "    for i in range(len(lstElementToSort)):\n",
    "        if len(lstElementToSort)/2 > i:\n",
    "            lstSubElementToSort1.append(lstElementToSort[i])\n",
    "        else:\n",
    "            lstSubElementToSort2.append(lstElementToSort[i])\n",
    "    # Recursion\n",
    "    lstSubElementToSort1 = performMergeSort(lstSubElementToSort1)\n",
    "    lstSubElementToSort2 = performMergeSort(lstSubElementToSort2)\n",
    "    \n",
    "    # Aggregation\n",
    "    idxCount1 = 0\n",
    "    idxCount2 = 0\n",
    "    for i in range(len(lstElementToSort)):\n",
    "        if idxCount1 == len(lstSubElementToSort1):\n",
    "            lstElementToSort[i] = lstSubElementToSort2[idxCount2]\n",
    "            idxCount2 = idxCount2 + 1\n",
    "        elif idxCount2 == len(lstSubElementToSort2):\n",
    "            lstElementToSort[i] = lstSubElementToSort1[idxCount1]\n",
    "            idxCount1 = idxCount1 + 1\n",
    "        elif lstSubElementToSort1[idxCount1] > lstSubElementToSort2[idxCount2]:\n",
    "            lstElementToSort[i] = lstSubElementToSort2[idxCount2]\n",
    "            idxCount2 = idxCount2 + 1\n",
    "        else:\n",
    "            lstElementToSort[i] = lstSubElementToSort1[idxCount1]\n",
    "            idxCount1 = idxCount1 + 1\n",
    "    return lstElementToSort\n",
    "        \n",
    "            "
   ]
  },
  {
   "cell_type": "code",
   "execution_count": 10,
   "metadata": {},
   "outputs": [
    {
     "name": "stdout",
     "output_type": "stream",
     "text": [
      "[81, 86, 30, 80, 29, 1, 32, 68, 1, 7]\n",
      "[1, 1, 7, 29, 30, 32, 68, 80, 81, 86]\n"
     ]
    }
   ],
   "source": [
    "lstRandom = []\n",
    "for i in range(10):\n",
    "    lstRandom.append(random.randrange(0, 100))\n",
    "print(lstRandom)\n",
    "lstRandom = performMergeSort(lstRandom)\n",
    "print(lstRandom)"
   ]
  },
  {
   "cell_type": "markdown",
   "metadata": {},
   "source": [
    "## **Problems in Recursions of Fibonacci Sequence**  \n",
    "* Excessive function calls  \n",
    "    + Calling functions again and again  \n",
    "    + Even though the function is executed before with the same parameters  \n",
    "* unnecessarily taking time and space"
   ]
  },
  {
   "cell_type": "markdown",
   "metadata": {},
   "source": [
    "---\n",
    "# **Dynamic Programming**  \n",
    "* A general algorithm design technique for solving problems defined by formulated as recurrences with overlapping sub-instances  \n",
    "* Relating a solution of a larer instance to solutions of some smaller instances  \n",
    "    + Solve small instances once  \n",
    "    + Record solutions in a table  \n",
    "    + Extract a solution of a larger instance from the table  \n"
   ]
  },
  {
   "cell_type": "markdown",
   "metadata": {},
   "source": [
    "## **Memoization**  \n",
    "* Storing the results of previous function calls to reuse the results again in the future  \n",
    "* Bottom-up approach for problem-solving"
   ]
  },
  {
   "cell_type": "markdown",
   "metadata": {},
   "source": [
    "## **Fibonacci**  "
   ]
  },
  {
   "cell_type": "code",
   "execution_count": 13,
   "metadata": {},
   "outputs": [],
   "source": [
    "def fibonacciDP(n):\n",
    "    dicFibonacci = {}\n",
    "    dicFibonacci[0] = 0\n",
    "    dicFibonacci[1] = 1\n",
    "    for i in range(2, n+1):\n",
    "        dicFibonacci[i] = dicFibonacci[i-1] + dicFibonacci[i-2]\n",
    "    return dicFibonacci[n]"
   ]
  },
  {
   "cell_type": "code",
   "execution_count": 14,
   "metadata": {},
   "outputs": [
    {
     "name": "stdout",
     "output_type": "stream",
     "text": [
      "F(0) = 0\n",
      "F(1) = 1\n",
      "F(2) = 1\n",
      "F(3) = 2\n",
      "F(4) = 3\n",
      "F(5) = 5\n",
      "F(6) = 8\n",
      "F(7) = 13\n",
      "F(8) = 21\n",
      "F(9) = 34\n"
     ]
    }
   ],
   "source": [
    "for i in range(10):\n",
    "    print('F({}) = {}'.format(i, fibonacciDP(i)))"
   ]
  },
  {
   "cell_type": "markdown",
   "metadata": {},
   "source": [
    "## **Assembly Line Scheduling Example**  \n"
   ]
  },
  {
   "cell_type": "markdown",
   "metadata": {},
   "source": [
    "### **[RECURSION]**"
   ]
  },
  {
   "cell_type": "code",
   "execution_count": 4,
   "metadata": {},
   "outputs": [],
   "source": [
    "class AssemblyLine:\n",
    "    timeStation = [[7, 9, 3, 4, 8, 4], [8, 5, 6, 4, 5, 7]]\n",
    "    timeBelt = [[2, 2, 3, 1, 3, 4, 3], [4, 2, 1, 2, 2, 1, 2]]\n",
    "    intCount = 0\n",
    "    def Scheduling(self, idxLine, idxStation):\n",
    "        print(\"Caculaate scheduling : line, station : \", idxLine, idxStation, \"(\", self.intCount, \"recursion calls )\")\n",
    "        self.intCount = self.intCount + 1\n",
    "        if idxStation == 0:\n",
    "            if idxLine == 1:\n",
    "                return self.timeBelt[0][0] + self.timeStation[0][0]\n",
    "            elif idxLine == 2:\n",
    "                return self.timeBelt[1][0] + self.timeStation[1][0]\n",
    "        if idxLine == 1:\n",
    "            costLine1 = self.Scheduling(1, idxStation-1) + self.timeStation[0][idxStation]\n",
    "            costLine2 = self.Scheduling(2, idxStation-1) + self.timeStation[0][idxStation] + self.timeBelt[1][idxStation]\n",
    "        elif idxLine == 2:\n",
    "            costLine1 = self.Scheduling(1, idxStation-1) + self.timeStation[1][idxStation] + self.timeBelt[0][idxStation]\n",
    "            costLine2 = self.Scheduling(2, idxStation-1) + self.timeStation[1][idxStation]\n",
    "        if costLine1> costLine2:\n",
    "            return costLine2\n",
    "        else:\n",
    "            return costLine1\n",
    "    \n",
    "    def startScheduling(self):\n",
    "        numStation = len(self.timeStation[0])\n",
    "        costLine1 = self.Scheduling(1, numStation-1) + self.timeBelt[0][numStation]\n",
    "        costLine2 = self.Scheduling(2, numStation-1) + self.timeBelt[1][numStation]\n",
    "        if costLine1 > costLine2:\n",
    "            return costLine2\n",
    "        else:\n",
    "            return costLine1\n",
    "            "
   ]
  },
  {
   "cell_type": "code",
   "execution_count": 5,
   "metadata": {},
   "outputs": [
    {
     "name": "stdout",
     "output_type": "stream",
     "text": [
      "Caculaate scheduling : line, station :  1 5 ( 0 recursion calls )\n",
      "Caculaate scheduling : line, station :  1 4 ( 1 recursion calls )\n",
      "Caculaate scheduling : line, station :  1 3 ( 2 recursion calls )\n",
      "Caculaate scheduling : line, station :  1 2 ( 3 recursion calls )\n",
      "Caculaate scheduling : line, station :  1 1 ( 4 recursion calls )\n",
      "Caculaate scheduling : line, station :  1 0 ( 5 recursion calls )\n",
      "Caculaate scheduling : line, station :  2 0 ( 6 recursion calls )\n",
      "Caculaate scheduling : line, station :  2 1 ( 7 recursion calls )\n",
      "Caculaate scheduling : line, station :  1 0 ( 8 recursion calls )\n",
      "Caculaate scheduling : line, station :  2 0 ( 9 recursion calls )\n",
      "Caculaate scheduling : line, station :  2 2 ( 10 recursion calls )\n",
      "Caculaate scheduling : line, station :  1 1 ( 11 recursion calls )\n",
      "Caculaate scheduling : line, station :  1 0 ( 12 recursion calls )\n",
      "Caculaate scheduling : line, station :  2 0 ( 13 recursion calls )\n",
      "Caculaate scheduling : line, station :  2 1 ( 14 recursion calls )\n",
      "Caculaate scheduling : line, station :  1 0 ( 15 recursion calls )\n",
      "Caculaate scheduling : line, station :  2 0 ( 16 recursion calls )\n",
      "Caculaate scheduling : line, station :  2 3 ( 17 recursion calls )\n",
      "Caculaate scheduling : line, station :  1 2 ( 18 recursion calls )\n",
      "Caculaate scheduling : line, station :  1 1 ( 19 recursion calls )\n",
      "Caculaate scheduling : line, station :  1 0 ( 20 recursion calls )\n",
      "Caculaate scheduling : line, station :  2 0 ( 21 recursion calls )\n",
      "Caculaate scheduling : line, station :  2 1 ( 22 recursion calls )\n",
      "Caculaate scheduling : line, station :  1 0 ( 23 recursion calls )\n",
      "Caculaate scheduling : line, station :  2 0 ( 24 recursion calls )\n",
      "Caculaate scheduling : line, station :  2 2 ( 25 recursion calls )\n",
      "Caculaate scheduling : line, station :  1 1 ( 26 recursion calls )\n",
      "Caculaate scheduling : line, station :  1 0 ( 27 recursion calls )\n",
      "Caculaate scheduling : line, station :  2 0 ( 28 recursion calls )\n",
      "Caculaate scheduling : line, station :  2 1 ( 29 recursion calls )\n",
      "Caculaate scheduling : line, station :  1 0 ( 30 recursion calls )\n",
      "Caculaate scheduling : line, station :  2 0 ( 31 recursion calls )\n",
      "Caculaate scheduling : line, station :  2 4 ( 32 recursion calls )\n",
      "Caculaate scheduling : line, station :  1 3 ( 33 recursion calls )\n",
      "Caculaate scheduling : line, station :  1 2 ( 34 recursion calls )\n",
      "Caculaate scheduling : line, station :  1 1 ( 35 recursion calls )\n",
      "Caculaate scheduling : line, station :  1 0 ( 36 recursion calls )\n",
      "Caculaate scheduling : line, station :  2 0 ( 37 recursion calls )\n",
      "Caculaate scheduling : line, station :  2 1 ( 38 recursion calls )\n",
      "Caculaate scheduling : line, station :  1 0 ( 39 recursion calls )\n",
      "Caculaate scheduling : line, station :  2 0 ( 40 recursion calls )\n",
      "Caculaate scheduling : line, station :  2 2 ( 41 recursion calls )\n",
      "Caculaate scheduling : line, station :  1 1 ( 42 recursion calls )\n",
      "Caculaate scheduling : line, station :  1 0 ( 43 recursion calls )\n",
      "Caculaate scheduling : line, station :  2 0 ( 44 recursion calls )\n",
      "Caculaate scheduling : line, station :  2 1 ( 45 recursion calls )\n",
      "Caculaate scheduling : line, station :  1 0 ( 46 recursion calls )\n",
      "Caculaate scheduling : line, station :  2 0 ( 47 recursion calls )\n",
      "Caculaate scheduling : line, station :  2 3 ( 48 recursion calls )\n",
      "Caculaate scheduling : line, station :  1 2 ( 49 recursion calls )\n",
      "Caculaate scheduling : line, station :  1 1 ( 50 recursion calls )\n",
      "Caculaate scheduling : line, station :  1 0 ( 51 recursion calls )\n",
      "Caculaate scheduling : line, station :  2 0 ( 52 recursion calls )\n",
      "Caculaate scheduling : line, station :  2 1 ( 53 recursion calls )\n",
      "Caculaate scheduling : line, station :  1 0 ( 54 recursion calls )\n",
      "Caculaate scheduling : line, station :  2 0 ( 55 recursion calls )\n",
      "Caculaate scheduling : line, station :  2 2 ( 56 recursion calls )\n",
      "Caculaate scheduling : line, station :  1 1 ( 57 recursion calls )\n",
      "Caculaate scheduling : line, station :  1 0 ( 58 recursion calls )\n",
      "Caculaate scheduling : line, station :  2 0 ( 59 recursion calls )\n",
      "Caculaate scheduling : line, station :  2 1 ( 60 recursion calls )\n",
      "Caculaate scheduling : line, station :  1 0 ( 61 recursion calls )\n",
      "Caculaate scheduling : line, station :  2 0 ( 62 recursion calls )\n",
      "Caculaate scheduling : line, station :  2 5 ( 63 recursion calls )\n",
      "Caculaate scheduling : line, station :  1 4 ( 64 recursion calls )\n",
      "Caculaate scheduling : line, station :  1 3 ( 65 recursion calls )\n",
      "Caculaate scheduling : line, station :  1 2 ( 66 recursion calls )\n",
      "Caculaate scheduling : line, station :  1 1 ( 67 recursion calls )\n",
      "Caculaate scheduling : line, station :  1 0 ( 68 recursion calls )\n",
      "Caculaate scheduling : line, station :  2 0 ( 69 recursion calls )\n",
      "Caculaate scheduling : line, station :  2 1 ( 70 recursion calls )\n",
      "Caculaate scheduling : line, station :  1 0 ( 71 recursion calls )\n",
      "Caculaate scheduling : line, station :  2 0 ( 72 recursion calls )\n",
      "Caculaate scheduling : line, station :  2 2 ( 73 recursion calls )\n",
      "Caculaate scheduling : line, station :  1 1 ( 74 recursion calls )\n",
      "Caculaate scheduling : line, station :  1 0 ( 75 recursion calls )\n",
      "Caculaate scheduling : line, station :  2 0 ( 76 recursion calls )\n",
      "Caculaate scheduling : line, station :  2 1 ( 77 recursion calls )\n",
      "Caculaate scheduling : line, station :  1 0 ( 78 recursion calls )\n",
      "Caculaate scheduling : line, station :  2 0 ( 79 recursion calls )\n",
      "Caculaate scheduling : line, station :  2 3 ( 80 recursion calls )\n",
      "Caculaate scheduling : line, station :  1 2 ( 81 recursion calls )\n",
      "Caculaate scheduling : line, station :  1 1 ( 82 recursion calls )\n",
      "Caculaate scheduling : line, station :  1 0 ( 83 recursion calls )\n",
      "Caculaate scheduling : line, station :  2 0 ( 84 recursion calls )\n",
      "Caculaate scheduling : line, station :  2 1 ( 85 recursion calls )\n",
      "Caculaate scheduling : line, station :  1 0 ( 86 recursion calls )\n",
      "Caculaate scheduling : line, station :  2 0 ( 87 recursion calls )\n",
      "Caculaate scheduling : line, station :  2 2 ( 88 recursion calls )\n",
      "Caculaate scheduling : line, station :  1 1 ( 89 recursion calls )\n",
      "Caculaate scheduling : line, station :  1 0 ( 90 recursion calls )\n",
      "Caculaate scheduling : line, station :  2 0 ( 91 recursion calls )\n",
      "Caculaate scheduling : line, station :  2 1 ( 92 recursion calls )\n",
      "Caculaate scheduling : line, station :  1 0 ( 93 recursion calls )\n",
      "Caculaate scheduling : line, station :  2 0 ( 94 recursion calls )\n",
      "Caculaate scheduling : line, station :  2 4 ( 95 recursion calls )\n",
      "Caculaate scheduling : line, station :  1 3 ( 96 recursion calls )\n",
      "Caculaate scheduling : line, station :  1 2 ( 97 recursion calls )\n",
      "Caculaate scheduling : line, station :  1 1 ( 98 recursion calls )\n",
      "Caculaate scheduling : line, station :  1 0 ( 99 recursion calls )\n",
      "Caculaate scheduling : line, station :  2 0 ( 100 recursion calls )\n",
      "Caculaate scheduling : line, station :  2 1 ( 101 recursion calls )\n",
      "Caculaate scheduling : line, station :  1 0 ( 102 recursion calls )\n",
      "Caculaate scheduling : line, station :  2 0 ( 103 recursion calls )\n",
      "Caculaate scheduling : line, station :  2 2 ( 104 recursion calls )\n",
      "Caculaate scheduling : line, station :  1 1 ( 105 recursion calls )\n",
      "Caculaate scheduling : line, station :  1 0 ( 106 recursion calls )\n",
      "Caculaate scheduling : line, station :  2 0 ( 107 recursion calls )\n",
      "Caculaate scheduling : line, station :  2 1 ( 108 recursion calls )\n",
      "Caculaate scheduling : line, station :  1 0 ( 109 recursion calls )\n",
      "Caculaate scheduling : line, station :  2 0 ( 110 recursion calls )\n",
      "Caculaate scheduling : line, station :  2 3 ( 111 recursion calls )\n",
      "Caculaate scheduling : line, station :  1 2 ( 112 recursion calls )\n",
      "Caculaate scheduling : line, station :  1 1 ( 113 recursion calls )\n",
      "Caculaate scheduling : line, station :  1 0 ( 114 recursion calls )\n",
      "Caculaate scheduling : line, station :  2 0 ( 115 recursion calls )\n",
      "Caculaate scheduling : line, station :  2 1 ( 116 recursion calls )\n",
      "Caculaate scheduling : line, station :  1 0 ( 117 recursion calls )\n",
      "Caculaate scheduling : line, station :  2 0 ( 118 recursion calls )\n",
      "Caculaate scheduling : line, station :  2 2 ( 119 recursion calls )\n",
      "Caculaate scheduling : line, station :  1 1 ( 120 recursion calls )\n",
      "Caculaate scheduling : line, station :  1 0 ( 121 recursion calls )\n",
      "Caculaate scheduling : line, station :  2 0 ( 122 recursion calls )\n",
      "Caculaate scheduling : line, station :  2 1 ( 123 recursion calls )\n",
      "Caculaate scheduling : line, station :  1 0 ( 124 recursion calls )\n",
      "Caculaate scheduling : line, station :  2 0 ( 125 recursion calls )\n",
      "Fastest production time :  38\n"
     ]
    }
   ],
   "source": [
    "line = AssemblyLine()\n",
    "time = line.startScheduling()\n",
    "print(\"Fastest production time : \", time)"
   ]
  },
  {
   "cell_type": "markdown",
   "metadata": {},
   "source": [
    "### **[DP]**"
   ]
  },
  {
   "cell_type": "code",
   "execution_count": 9,
   "metadata": {},
   "outputs": [],
   "source": [
    "class AssemblyDP:\n",
    "    timeStation = [[7, 9, 3, 4, 8, 4], [8, 5, 6, 4, 5, 7]]\n",
    "    timeBelt = [[2, 2, 3, 1, 3, 4, 3], [4, 2, 1, 2, 2, 1, 2]]\n",
    "    # setting up a memoization table\n",
    "    timeScheduling = [list(range(6)), list(range(6))]\n",
    "    stationTracing = [list(range(6)), list(range(6))]\n",
    "    \n",
    "    def startSchedulingDP(self):\n",
    "        numStation = len(self.timeStation[0])\n",
    "        self.timeScheduling[0][0] = self.timeStation[0][0] + self.timeBelt[0][0]\n",
    "        self.timeScheduling[1][0] = self.timeStation[1][0] + self.timeBelt[1][0]\n",
    "        \n",
    "        for i in range(1, numStation):\n",
    "            if self.timeScheduling[0][i-1] > self.timeScheduling[1][i-1] + self.timeBelt[1][i]:\n",
    "                self.timeScheduling[0][i] = self.timeStation[0][i] + self.timeScheduling[1][i-1] + self.timeBelt[1][i]\n",
    "                self.stationTracing[0][i] = 1\n",
    "            else:\n",
    "                self.timeScheduling[0][i] = self.timeStation[0][i] + self.timeScheduling[1][i-1]\n",
    "                self.stationTracing[0][i] = 0\n",
    "            if self.timeScheduling[1][i-1] > self.timeScheduling[0][i-1] + self.timeBelt[0][i]:\n",
    "                self.timeScheduling[1][i] = self.timeStation[1][i] + self.timeScheduling[0][i-1] + self.timeBelt[0][i]\n",
    "                self.stationTracing[1][i] = 0\n",
    "            else:\n",
    "                self.timeScheduling[1][i] = self.timeStation[1][i] + self.timeScheduling[1][i-1]\n",
    "                self.stationTracing[1][i] = 1\n",
    "        \n",
    "        costLine1 = self.timeScheduling[0][numStation-1] + self.timeBelt[0][numStation]\n",
    "        costLine2 = self.timeScheduling[1][numStation-1] + self.timeBelt[1][numStation]\n",
    "        \n",
    "        if costLine1 > costLine2:\n",
    "            return costLine2, 1\n",
    "        else:\n",
    "            return costLine1, 0\n",
    "        \n",
    "    def printTracing(self, lineTracing):\n",
    "        numStation = len(self.timeStation[0])\n",
    "        print(\"Line :\", lineTracing, \", Station : \", numStation)\n",
    "        for i in range(numStation -1, 0, -1):\n",
    "            lineTracing = self.stationTracing[lineTracing][i]\n",
    "            print(\"Line : \", lineTracing, \", Station : \", i)\n",
    "            \n",
    "                \n",
    "            \n",
    "    "
   ]
  },
  {
   "cell_type": "code",
   "execution_count": 10,
   "metadata": {},
   "outputs": [
    {
     "name": "stdout",
     "output_type": "stream",
     "text": [
      "Fastest production time :  38\n",
      "Line : 0 , Station :  6\n",
      "Line :  1 , Station :  5\n",
      "Line :  1 , Station :  4\n",
      "Line :  0 , Station :  3\n",
      "Line :  1 , Station :  2\n",
      "Line :  0 , Station :  1\n"
     ]
    }
   ],
   "source": [
    "line = AssemblyDP()\n",
    "time, lineTracing = line.startSchedulingDP()\n",
    "print(\"Fastest production time : \", time)\n",
    "line.printTracing(lineTracing)"
   ]
  },
  {
   "cell_type": "markdown",
   "metadata": {},
   "source": [
    "# Reference\n",
    "https://www.edwith.org/datastructure-2019s/joinLectures/21992"
   ]
  }
 ],
 "metadata": {
  "kernelspec": {
   "display_name": "Python 3",
   "language": "python",
   "name": "python3"
  },
  "language_info": {
   "codemirror_mode": {
    "name": "ipython",
    "version": 3
   },
   "file_extension": ".py",
   "mimetype": "text/x-python",
   "name": "python",
   "nbconvert_exporter": "python",
   "pygments_lexer": "ipython3",
   "version": "3.7.6"
  },
  "toc": {
   "base_numbering": 1,
   "nav_menu": {},
   "number_sections": false,
   "sideBar": true,
   "skip_h1_title": false,
   "title_cell": "Table of Contents",
   "title_sidebar": "Contents",
   "toc_cell": false,
   "toc_position": {},
   "toc_section_display": true,
   "toc_window_display": true
  },
  "varInspector": {
   "cols": {
    "lenName": 16,
    "lenType": 16,
    "lenVar": 40
   },
   "kernels_config": {
    "python": {
     "delete_cmd_postfix": "",
     "delete_cmd_prefix": "del ",
     "library": "var_list.py",
     "varRefreshCmd": "print(var_dic_list())"
    },
    "r": {
     "delete_cmd_postfix": ") ",
     "delete_cmd_prefix": "rm(",
     "library": "var_list.r",
     "varRefreshCmd": "cat(var_dic_list()) "
    }
   },
   "types_to_exclude": [
    "module",
    "function",
    "builtin_function_or_method",
    "instance",
    "_Feature"
   ],
   "window_display": false
  }
 },
 "nbformat": 4,
 "nbformat_minor": 4
}
